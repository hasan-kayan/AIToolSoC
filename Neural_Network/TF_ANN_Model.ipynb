{
 "cells": [
  {
   "attachments": {},
   "cell_type": "markdown",
   "metadata": {},
   "source": [
    "## Imports"
   ]
  },
  {
   "cell_type": "code",
   "execution_count": 82,
   "metadata": {},
   "outputs": [],
   "source": [
    "import tensorflow as tf\n",
    "import numpy as np\n",
    "import pandas as pd\n",
    "import matplotlib.pyplot as plt\n",
    "import os\n",
    "from sklearn.model_selection import train_test_split\n",
    "from time import perf_counter"
   ]
  },
  {
   "attachments": {},
   "cell_type": "markdown",
   "metadata": {},
   "source": [
    "## Obtain and Preprocess Data"
   ]
  },
  {
   "cell_type": "code",
   "execution_count": 52,
   "metadata": {},
   "outputs": [],
   "source": [
    "def get_data(path):\n",
    "    filenames_list = []\n",
    "    for root, subdirs, files in os.walk(path):\n",
    "        for file in files:\n",
    "            if file[-4:] == '.csv':\n",
    "                filenames_list.append(os.path.join(root, file))\n",
    "    return filenames_list\n",
    "\n",
    "class Data_csv:\n",
    "    def __init__(self, name, data):\n",
    "        self.name = name\n",
    "        self.data = data\n",
    "\n",
    "data_list = get_data('Data')\n",
    "class_data_list = []\n",
    "\n",
    "i = 0\n",
    "for i in range(len(data_list)):\n",
    "    class_data_list.append(Data_csv(data_list[i], pd.read_csv(data_list[i])))\n",
    "    class_data_list[i].data.drop(columns = ['Unnamed: 0'], inplace = True)\n",
    "    if class_data_list[i].name[class_data_list[i].name.index('\\\\')+2] == 'C':\n",
    "        class_data_list[i].data['Current'] = int(class_data_list[i].name[class_data_list[i].name.index('\\\\')+1])\n",
    "    else:\n",
    "        class_data_list[i].data['Current'] = int(class_data_list[i].name[5:7]) \n",
    "    \n"
   ]
  },
  {
   "attachments": {},
   "cell_type": "markdown",
   "metadata": {},
   "source": [
    "### Example of data"
   ]
  },
  {
   "cell_type": "code",
   "execution_count": 199,
   "metadata": {},
   "outputs": [
    {
     "data": {
      "text/html": [
       "<div>\n",
       "<style scoped>\n",
       "    .dataframe tbody tr th:only-of-type {\n",
       "        vertical-align: middle;\n",
       "    }\n",
       "\n",
       "    .dataframe tbody tr th {\n",
       "        vertical-align: top;\n",
       "    }\n",
       "\n",
       "    .dataframe thead th {\n",
       "        text-align: right;\n",
       "    }\n",
       "</style>\n",
       "<table border=\"1\" class=\"dataframe\">\n",
       "  <thead>\n",
       "    <tr style=\"text-align: right;\">\n",
       "      <th></th>\n",
       "      <th>x</th>\n",
       "      <th>y</th>\n",
       "      <th>Current</th>\n",
       "    </tr>\n",
       "  </thead>\n",
       "  <tbody>\n",
       "    <tr>\n",
       "      <th>0</th>\n",
       "      <td>0.000000</td>\n",
       "      <td>3.249915</td>\n",
       "      <td>10</td>\n",
       "    </tr>\n",
       "    <tr>\n",
       "      <th>1</th>\n",
       "      <td>0.000000</td>\n",
       "      <td>3.247179</td>\n",
       "      <td>10</td>\n",
       "    </tr>\n",
       "    <tr>\n",
       "      <th>2</th>\n",
       "      <td>0.000000</td>\n",
       "      <td>3.244444</td>\n",
       "      <td>10</td>\n",
       "    </tr>\n",
       "    <tr>\n",
       "      <th>3</th>\n",
       "      <td>0.000000</td>\n",
       "      <td>3.241709</td>\n",
       "      <td>10</td>\n",
       "    </tr>\n",
       "    <tr>\n",
       "      <th>4</th>\n",
       "      <td>0.000000</td>\n",
       "      <td>3.238974</td>\n",
       "      <td>10</td>\n",
       "    </tr>\n",
       "    <tr>\n",
       "      <th>...</th>\n",
       "      <td>...</td>\n",
       "      <td>...</td>\n",
       "      <td>...</td>\n",
       "    </tr>\n",
       "    <tr>\n",
       "      <th>3755</th>\n",
       "      <td>22.114061</td>\n",
       "      <td>2.043761</td>\n",
       "      <td>10</td>\n",
       "    </tr>\n",
       "    <tr>\n",
       "      <th>3756</th>\n",
       "      <td>22.139626</td>\n",
       "      <td>2.043761</td>\n",
       "      <td>10</td>\n",
       "    </tr>\n",
       "    <tr>\n",
       "      <th>3757</th>\n",
       "      <td>22.165192</td>\n",
       "      <td>2.043761</td>\n",
       "      <td>10</td>\n",
       "    </tr>\n",
       "    <tr>\n",
       "      <th>3758</th>\n",
       "      <td>22.190757</td>\n",
       "      <td>2.043761</td>\n",
       "      <td>10</td>\n",
       "    </tr>\n",
       "    <tr>\n",
       "      <th>3759</th>\n",
       "      <td>22.216323</td>\n",
       "      <td>2.043761</td>\n",
       "      <td>10</td>\n",
       "    </tr>\n",
       "  </tbody>\n",
       "</table>\n",
       "<p>3760 rows × 3 columns</p>\n",
       "</div>"
      ],
      "text/plain": [
       "              x         y  Current\n",
       "0      0.000000  3.249915       10\n",
       "1      0.000000  3.247179       10\n",
       "2      0.000000  3.244444       10\n",
       "3      0.000000  3.241709       10\n",
       "4      0.000000  3.238974       10\n",
       "...         ...       ...      ...\n",
       "3755  22.114061  2.043761       10\n",
       "3756  22.139626  2.043761       10\n",
       "3757  22.165192  2.043761       10\n",
       "3758  22.190757  2.043761       10\n",
       "3759  22.216323  2.043761       10\n",
       "\n",
       "[3760 rows x 3 columns]"
      ]
     },
     "execution_count": 199,
     "metadata": {},
     "output_type": "execute_result"
    }
   ],
   "source": [
    "class_data_list[0].data"
   ]
  },
  {
   "attachments": {},
   "cell_type": "markdown",
   "metadata": {},
   "source": [
    "## Train-Test Split"
   ]
  },
  {
   "cell_type": "code",
   "execution_count": 90,
   "metadata": {},
   "outputs": [],
   "source": [
    "full_data = pd.DataFrame()\n",
    "X = pd.DataFrame()\n",
    "y = pd.DataFrame()\n",
    "\n",
    "i = 0\n",
    "for i in range(len(class_data_list)):\n",
    "\n",
    "    full_data = pd.concat([full_data, class_data_list[i].data], ignore_index=True)\n",
    "\n",
    "X = full_data.drop(columns=['y'])\n",
    "y = full_data['y']\n",
    "\n",
    "train_X, test_X = train_test_split(X, test_size=0.2, random_state=42)\n",
    "train_y, test_y = train_test_split(y, test_size=0.2, random_state=42)"
   ]
  },
  {
   "attachments": {},
   "cell_type": "markdown",
   "metadata": {},
   "source": [
    "## Build the Model"
   ]
  },
  {
   "cell_type": "code",
   "execution_count": 165,
   "metadata": {},
   "outputs": [
    {
     "name": "stdout",
     "output_type": "stream",
     "text": [
      "Epoch 1/100\n",
      "589/589 [==============================] - 2s 2ms/step - loss: 0.4227\n",
      "Epoch 2/100\n",
      "589/589 [==============================] - 1s 2ms/step - loss: 0.1454\n",
      "Epoch 3/100\n",
      "589/589 [==============================] - 1s 2ms/step - loss: 0.1416\n",
      "Epoch 4/100\n",
      "589/589 [==============================] - 1s 2ms/step - loss: 0.1318\n",
      "Epoch 5/100\n",
      "589/589 [==============================] - 1s 2ms/step - loss: 0.1370\n",
      "Epoch 6/100\n",
      "589/589 [==============================] - 1s 2ms/step - loss: 0.1348\n",
      "Epoch 7/100\n",
      "589/589 [==============================] - 1s 2ms/step - loss: 0.1343\n",
      "Epoch 8/100\n",
      "589/589 [==============================] - 1s 2ms/step - loss: 0.1300\n",
      "Epoch 9/100\n",
      "589/589 [==============================] - 1s 2ms/step - loss: 0.1301\n",
      "Epoch 10/100\n",
      "589/589 [==============================] - 1s 2ms/step - loss: 0.1299\n",
      "Epoch 11/100\n",
      "589/589 [==============================] - 1s 2ms/step - loss: 0.1303\n",
      "Epoch 12/100\n",
      "589/589 [==============================] - 1s 2ms/step - loss: 0.1270\n",
      "Epoch 13/100\n",
      "589/589 [==============================] - 1s 2ms/step - loss: 0.1279\n",
      "Epoch 14/100\n",
      "589/589 [==============================] - 1s 2ms/step - loss: 0.1273\n",
      "Epoch 15/100\n",
      "589/589 [==============================] - 1s 2ms/step - loss: 0.1273\n",
      "Epoch 16/100\n",
      "589/589 [==============================] - 1s 2ms/step - loss: 0.1269\n",
      "Epoch 17/100\n",
      "589/589 [==============================] - 1s 2ms/step - loss: 0.1286\n",
      "Epoch 18/100\n",
      "589/589 [==============================] - 1s 2ms/step - loss: 0.1266\n",
      "Epoch 19/100\n",
      "589/589 [==============================] - 1s 2ms/step - loss: 0.1265\n",
      "Epoch 20/100\n",
      "589/589 [==============================] - 1s 2ms/step - loss: 0.1269\n",
      "Epoch 21/100\n",
      "589/589 [==============================] - 1s 2ms/step - loss: 0.1265\n",
      "Epoch 22/100\n",
      "589/589 [==============================] - 1s 2ms/step - loss: 0.1267\n",
      "Epoch 23/100\n",
      "589/589 [==============================] - 1s 2ms/step - loss: 0.1260\n",
      "Epoch 24/100\n",
      "589/589 [==============================] - 1s 2ms/step - loss: 0.1260\n",
      "Epoch 25/100\n",
      "589/589 [==============================] - 1s 2ms/step - loss: 0.1265\n",
      "Epoch 26/100\n",
      "589/589 [==============================] - 1s 2ms/step - loss: 0.1258\n",
      "Epoch 27/100\n",
      "589/589 [==============================] - 1s 2ms/step - loss: 0.1254\n",
      "Epoch 28/100\n",
      "589/589 [==============================] - 1s 2ms/step - loss: 0.1260\n",
      "Epoch 29/100\n",
      "589/589 [==============================] - 1s 2ms/step - loss: 0.1265\n",
      "Epoch 30/100\n",
      "589/589 [==============================] - 1s 2ms/step - loss: 0.1260\n",
      "Epoch 31/100\n",
      "589/589 [==============================] - 1s 2ms/step - loss: 0.1251\n",
      "Epoch 32/100\n",
      "589/589 [==============================] - 1s 2ms/step - loss: 0.1254\n",
      "Epoch 33/100\n",
      "589/589 [==============================] - 1s 2ms/step - loss: 0.1254\n",
      "Epoch 34/100\n",
      "589/589 [==============================] - 1s 2ms/step - loss: 0.1256\n",
      "Epoch 35/100\n",
      "589/589 [==============================] - 1s 2ms/step - loss: 0.1251\n",
      "Epoch 36/100\n",
      "589/589 [==============================] - 1s 2ms/step - loss: 0.1254\n",
      "Epoch 37/100\n",
      "589/589 [==============================] - 1s 2ms/step - loss: 0.1249\n",
      "Epoch 38/100\n",
      "589/589 [==============================] - 1s 2ms/step - loss: 0.1250\n",
      "Epoch 39/100\n",
      "589/589 [==============================] - 1s 2ms/step - loss: 0.1251\n",
      "Epoch 40/100\n",
      "589/589 [==============================] - 1s 2ms/step - loss: 0.1252\n",
      "Epoch 41/100\n",
      "589/589 [==============================] - 1s 2ms/step - loss: 0.1258\n",
      "Epoch 42/100\n",
      "589/589 [==============================] - 1s 2ms/step - loss: 0.1245\n",
      "Epoch 43/100\n",
      "589/589 [==============================] - 1s 2ms/step - loss: 0.1250\n",
      "Epoch 44/100\n",
      "589/589 [==============================] - 1s 2ms/step - loss: 0.1246\n",
      "Epoch 45/100\n",
      "589/589 [==============================] - 1s 2ms/step - loss: 0.1254\n",
      "Epoch 46/100\n",
      "589/589 [==============================] - 1s 2ms/step - loss: 0.1243\n",
      "Epoch 47/100\n",
      "589/589 [==============================] - 1s 2ms/step - loss: 0.1250\n",
      "Epoch 48/100\n",
      "589/589 [==============================] - 1s 2ms/step - loss: 0.1245\n",
      "Epoch 49/100\n",
      "589/589 [==============================] - 1s 2ms/step - loss: 0.1250\n",
      "Epoch 50/100\n",
      "589/589 [==============================] - 1s 2ms/step - loss: 0.1245\n",
      "Epoch 51/100\n",
      "589/589 [==============================] - 1s 2ms/step - loss: 0.1246\n",
      "Epoch 52/100\n",
      "589/589 [==============================] - 1s 2ms/step - loss: 0.1248\n",
      "Epoch 53/100\n",
      "589/589 [==============================] - 1s 2ms/step - loss: 0.1243\n",
      "Epoch 54/100\n",
      "589/589 [==============================] - 1s 2ms/step - loss: 0.1245\n",
      "Epoch 55/100\n",
      "589/589 [==============================] - 1s 2ms/step - loss: 0.1256\n",
      "Epoch 56/100\n",
      "589/589 [==============================] - 1s 2ms/step - loss: 0.1248\n",
      "Epoch 57/100\n",
      "589/589 [==============================] - 1s 2ms/step - loss: 0.1248\n",
      "Epoch 58/100\n",
      "589/589 [==============================] - 1s 2ms/step - loss: 0.1248\n",
      "Epoch 59/100\n",
      "589/589 [==============================] - 1s 2ms/step - loss: 0.1251\n",
      "Epoch 60/100\n",
      "589/589 [==============================] - 1s 2ms/step - loss: 0.1244\n",
      "Epoch 61/100\n",
      "589/589 [==============================] - 1s 2ms/step - loss: 0.1243\n",
      "Epoch 62/100\n",
      "589/589 [==============================] - 1s 2ms/step - loss: 0.1241\n",
      "Epoch 63/100\n",
      "589/589 [==============================] - 1s 2ms/step - loss: 0.1241\n",
      "Epoch 64/100\n",
      "589/589 [==============================] - 1s 2ms/step - loss: 0.1242\n",
      "Epoch 65/100\n",
      "589/589 [==============================] - 1s 2ms/step - loss: 0.1254\n",
      "Epoch 66/100\n",
      "589/589 [==============================] - 1s 2ms/step - loss: 0.1243\n",
      "Epoch 67/100\n",
      "589/589 [==============================] - 1s 2ms/step - loss: 0.1253\n",
      "Epoch 68/100\n",
      "589/589 [==============================] - 1s 2ms/step - loss: 0.1241\n",
      "Epoch 69/100\n",
      "589/589 [==============================] - 1s 2ms/step - loss: 0.1240\n",
      "Epoch 70/100\n",
      "589/589 [==============================] - 1s 2ms/step - loss: 0.1243\n",
      "Epoch 71/100\n",
      "589/589 [==============================] - 1s 2ms/step - loss: 0.1247\n",
      "Epoch 72/100\n",
      "589/589 [==============================] - 1s 2ms/step - loss: 0.1241\n",
      "Epoch 73/100\n",
      "589/589 [==============================] - 1s 2ms/step - loss: 0.1256\n",
      "Epoch 74/100\n",
      "589/589 [==============================] - 1s 2ms/step - loss: 0.1242\n",
      "Epoch 75/100\n",
      "589/589 [==============================] - 1s 2ms/step - loss: 0.1243\n",
      "Epoch 76/100\n",
      "589/589 [==============================] - 1s 2ms/step - loss: 0.1236\n",
      "Epoch 77/100\n",
      "589/589 [==============================] - 1s 2ms/step - loss: 0.1254\n",
      "Epoch 78/100\n",
      "589/589 [==============================] - 1s 2ms/step - loss: 0.1239\n",
      "Epoch 79/100\n",
      "589/589 [==============================] - 1s 2ms/step - loss: 0.1236\n",
      "Epoch 80/100\n",
      "589/589 [==============================] - 1s 2ms/step - loss: 0.1239\n",
      "Epoch 81/100\n",
      "589/589 [==============================] - 1s 2ms/step - loss: 0.1240\n",
      "Epoch 82/100\n",
      "589/589 [==============================] - 1s 2ms/step - loss: 0.1250\n",
      "Epoch 83/100\n",
      "589/589 [==============================] - 1s 2ms/step - loss: 0.1239\n",
      "Epoch 84/100\n",
      "589/589 [==============================] - 1s 2ms/step - loss: 0.1238\n",
      "Epoch 85/100\n",
      "589/589 [==============================] - 1s 2ms/step - loss: 0.1239\n",
      "Epoch 86/100\n",
      "589/589 [==============================] - 1s 2ms/step - loss: 0.1247\n",
      "Epoch 87/100\n",
      "589/589 [==============================] - 1s 2ms/step - loss: 0.1243\n",
      "Epoch 88/100\n",
      "589/589 [==============================] - 1s 2ms/step - loss: 0.1237\n",
      "Epoch 89/100\n",
      "589/589 [==============================] - 1s 2ms/step - loss: 0.1244\n",
      "Epoch 90/100\n",
      "589/589 [==============================] - 1s 2ms/step - loss: 0.1235\n",
      "Epoch 91/100\n",
      "589/589 [==============================] - 1s 2ms/step - loss: 0.1237\n",
      "Epoch 92/100\n",
      "589/589 [==============================] - 1s 2ms/step - loss: 0.1239\n",
      "Epoch 93/100\n",
      "589/589 [==============================] - 1s 2ms/step - loss: 0.1243\n",
      "Epoch 94/100\n",
      "589/589 [==============================] - 1s 2ms/step - loss: 0.1240\n",
      "Epoch 95/100\n",
      "589/589 [==============================] - 1s 2ms/step - loss: 0.1238\n",
      "Epoch 96/100\n",
      "589/589 [==============================] - 1s 2ms/step - loss: 0.1241\n",
      "Epoch 97/100\n",
      "589/589 [==============================] - 1s 2ms/step - loss: 0.1238\n",
      "Epoch 98/100\n",
      "589/589 [==============================] - 1s 2ms/step - loss: 0.1236\n",
      "Epoch 99/100\n",
      "589/589 [==============================] - 1s 2ms/step - loss: 0.1236\n",
      "Epoch 100/100\n",
      "589/589 [==============================] - 1s 2ms/step - loss: 0.1239\n"
     ]
    }
   ],
   "source": [
    "model=tf.keras.models.Sequential([\n",
    "\n",
    "    tf.keras.layers.Dense(512),\n",
    "    tf.keras.layers.Dense(256),\n",
    "    tf.keras.layers.Dense(128),\n",
    "    tf.keras.layers.Dense(64),\n",
    "    tf.keras.layers.Dense(32),\n",
    "    tf.keras.layers.Dense(16),\n",
    "    tf.keras.layers.Dense(1)\n",
    "           ])\n",
    "\n",
    "model.compile(optimizer='adam',\n",
    "              loss=tf.keras.losses.mae)\n",
    "\n",
    "history = model.fit(x = train_X, y = train_y, epochs=100)\n"
   ]
  },
  {
   "attachments": {},
   "cell_type": "markdown",
   "metadata": {},
   "source": [
    "### Get Test Loss"
   ]
  },
  {
   "cell_type": "code",
   "execution_count": 182,
   "metadata": {},
   "outputs": [
    {
     "name": "stdout",
     "output_type": "stream",
     "text": [
      "148/148 [==============================] - 0s 897us/step - loss: 0.1273\n"
     ]
    }
   ],
   "source": [
    "test_loss = model.evaluate(test_X,test_y)"
   ]
  },
  {
   "attachments": {},
   "cell_type": "markdown",
   "metadata": {},
   "source": [
    "## Visualize Metrics"
   ]
  },
  {
   "cell_type": "code",
   "execution_count": 201,
   "metadata": {},
   "outputs": [
    {
     "data": {
      "text/plain": [
       "<matplotlib.legend.Legend at 0x26d814d0790>"
      ]
     },
     "execution_count": 201,
     "metadata": {},
     "output_type": "execute_result"
    },
    {
     "data": {
      "image/png": "[encoded data removed]",
      "text/plain": [
       "<Figure size 432x288 with 1 Axes>"
      ]
     },
     "metadata": {
      "needs_background": "light"
     },
     "output_type": "display_data"
    }
   ],
   "source": [
    "plt.plot(history.epoch,history.history['loss'])\n",
    "plt.title('Loss versus Epoch')\n",
    "plt.xlabel('Epoch')\n",
    "plt.ylabel('Loss')\n",
    "plt.grid()\n",
    "plt.xticks(np.arange(0,101,5))\n",
    "plt.scatter(100,test_loss,color='r')\n",
    "plt.legend(('Train', 'Test'))"
   ]
  },
  {
   "attachments": {},
   "cell_type": "markdown",
   "metadata": {},
   "source": [
    "## Save the Model"
   ]
  },
  {
   "cell_type": "code",
   "execution_count": 200,
   "metadata": {},
   "outputs": [],
   "source": [
    "model.save('model.h5')"
   ]
  }
 ],
 "metadata": {
  "kernelspec": {
   "display_name": "Python 3",
   "language": "python",
   "name": "python3"
  },
  "language_info": {
   "codemirror_mode": {
    "name": "ipython",
    "version": 3
   },
   "file_extension": ".py",
   "mimetype": "text/x-python",
   "name": "python",
   "nbconvert_exporter": "python",
   "pygments_lexer": "ipython3",
   "version": "3.10.8 (tags/v3.10.8:aaaf517, Oct 11 2022, 16:50:30) [MSC v.1933 64 bit (AMD64)]"
  },
  "orig_nbformat": 4,
  "vscode": {
   "interpreter": {
    "hash": "16ed1ad39f6cb4eaf53d86c55f2d34bac14d0f596ee8dc47839d2863d7ce4162"
   }
  }
 },
 "nbformat": 4,
 "nbformat_minor": 2
}

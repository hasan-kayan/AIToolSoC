{
 "cells": [
  {
   "cell_type": "code",
   "execution_count": 31,
   "metadata": {},
   "outputs": [],
   "source": [
    "import numpy as np\n",
    "import matplotlib.pyplot as plt\n",
    "from sklearn.svm import SVC\n",
    "from sklearn.inspection import DecisionBoundaryDisplay\n",
    "import pandas as pd\n",
    "import os\n",
    "from sklearn import linear_model\n",
    "from sklearn.metrics import mean_squared_error, r2_score\n",
    "from sklearn.model_selection import train_test_split\n",
    "from sklearn.neighbors import KNeighborsClassifier, NeighborhoodComponentsAnalysis"
   ]
  },
  {
   "cell_type": "code",
   "execution_count": 30,
   "metadata": {},
   "outputs": [],
   "source": [
    "def line(x,a,b):\n",
    "    return ((a*x) + b)\n",
    "\n",
    "def get_data(path):\n",
    "    paths_list = []\n",
    "    only_filename_list = []\n",
    "    for root, subdirs, files in os.walk(path):\n",
    "        for file in files:\n",
    "            if file[-4:] == '.csv':\n",
    "                paths_list.append(os.path.join(root, file))\n",
    "                only_filename_list.append(file)\n",
    "    return paths_list, only_filename_list\n",
    "\n",
    "class Data_csv:\n",
    "    def __init__(self, name, data, filename, coef, intercept):\n",
    "        self.name = name\n",
    "        self.data = data\n",
    "        self.filename = filename\n",
    "        self.coef = coef\n",
    "        self.intercept = intercept\n",
    "\n",
    "paths_list, filenames_list = get_data('Data_svr')\n",
    "class_data_list = []\n",
    "\n",
    "i = 0\n",
    "for i in range(len(paths_list)):\n",
    "    class_data_list.append(Data_csv(paths_list[i], pd.read_csv(paths_list[i]), filenames_list[i],None, None))\n",
    "    #class_data_list[i].data.drop(columns = ['Unnamed: 0'], inplace = True)\n",
    "    if class_data_list[i].filename.index('C') == 1:\n",
    "        class_data_list[i].data['Current'] = int(filenames_list[i][0])\n",
    "    else:\n",
    "        class_data_list[i].data['Current'] = int(filenames_list[i][0:2]) \n",
    "    \n"
   ]
  },
  {
   "cell_type": "code",
   "execution_count": 47,
   "metadata": {},
   "outputs": [],
   "source": [
    "full_data = pd.DataFrame()\n",
    "X = pd.DataFrame()\n",
    "y = pd.DataFrame()\n",
    "\n",
    "i = 0\n",
    "for i in range(len(class_data_list)):\n",
    "\n",
    "    full_data = pd.concat([full_data, class_data_list[i].data], ignore_index=True)\n",
    "\n",
    "X = full_data.drop(columns=['Current'])\n",
    "y = full_data['Current']\n",
    "\n",
    "X_train, X_test = train_test_split(X, test_size=0.2, random_state=42)\n",
    "y_train, y_test = train_test_split(y, test_size=0.2, random_state=42)"
   ]
  },
  {
   "cell_type": "code",
   "execution_count": 61,
   "metadata": {},
   "outputs": [
    {
     "name": "stdout",
     "output_type": "stream",
     "text": [
      "1.0\n"
     ]
    }
   ],
   "source": [
    "knn = KNeighborsClassifier(n_neighbors=10)\n",
    "knn.fit(X_train,y_train)\n",
    "print(knn.score(X_test, y_test))\n",
    "\n",
    "y_pred = knn.predict(X_test)\n",
    "print(mean_squared_error(y_test, y_pred))\n",
    "print(r2_score(y_test, y_pred))"
   ]
  },
  {
   "cell_type": "code",
   "execution_count": 76,
   "metadata": {},
   "outputs": [
    {
     "data": {
      "text/plain": [
       "<matplotlib.collections.PathCollection at 0x1ea6bd408b0>"
      ]
     },
     "execution_count": 76,
     "metadata": {},
     "output_type": "execute_result"
    },
    {
     "data": {
      "image/png": "[encoded data removed]",
      "text/plain": [
       "<Figure size 432x288 with 1 Axes>"
      ]
     },
     "metadata": {
      "needs_background": "light"
     },
     "output_type": "display_data"
    }
   ],
   "source": [
    "#_, ax = plt.subplots()\n",
    "\n",
    "DecisionBoundaryDisplay.from_estimator(\n",
    "    knn,\n",
    "    X,\n",
    "    #cmap=cmap_light,\n",
    "    alpha=0.8,\n",
    "    response_method=\"predict\",\n",
    "    plot_method=\"pcolormesh\",\n",
    "    shading=\"auto\",\n",
    ")\n",
    "\n",
    "# Plot also the training and testing points\n",
    "plt.scatter(X_train['x'], X_train['y'], s = 0.005, c = 'r')\n",
    "#plt.title(\"{} (k = {})\".format(name, n_neighbors))\n"
   ]
  },
  {
   "cell_type": "code",
   "execution_count": null,
   "metadata": {},
   "outputs": [],
   "source": []
  }
 ],
 "metadata": {
  "kernelspec": {
   "display_name": "Python 3",
   "language": "python",
   "name": "python3"
  },
  "language_info": {
   "codemirror_mode": {
    "name": "ipython",
    "version": 3
   },
   "file_extension": ".py",
   "mimetype": "text/x-python",
   "name": "python",
   "nbconvert_exporter": "python",
   "pygments_lexer": "ipython3",
   "version": "3.10.8 (tags/v3.10.8:aaaf517, Oct 11 2022, 16:50:30) [MSC v.1933 64 bit (AMD64)]"
  },
  "orig_nbformat": 4,
  "vscode": {
   "interpreter": {
    "hash": "16ed1ad39f6cb4eaf53d86c55f2d34bac14d0f596ee8dc47839d2863d7ce4162"
   }
  }
 },
 "nbformat": 4,
 "nbformat_minor": 2
}
